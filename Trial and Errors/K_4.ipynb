{
  "nbformat": 4,
  "nbformat_minor": 0,
  "metadata": {
    "colab": {
      "provenance": []
    },
    "kernelspec": {
      "name": "python3",
      "display_name": "Python 3"
    },
    "language_info": {
      "name": "python"
    }
  },
  "cells": [
    {
      "cell_type": "code",
      "execution_count": 1,
      "metadata": {
        "colab": {
          "base_uri": "https://localhost:8080/"
        },
        "id": "y1fmzhskt55I",
        "outputId": "476397d1-0200-45df-f21d-c5a2024721f6"
      },
      "outputs": [
        {
          "output_type": "stream",
          "name": "stdout",
          "text": [
            "Mounted at /content/drive\n"
          ]
        }
      ],
      "source": [
        "from google.colab import drive\n",
        "import pandas as pd\n",
        "\n",
        "# Mount Google Drive\n",
        "drive.mount('/content/drive')\n",
        "\n",
        "# Once mounted, you can access files in your Google Drive like this:\n",
        "file_path = '/content/drive/My Drive/Dear/patient_counts14.xlsx'\n",
        "\n",
        "# Read data from Excel file\n",
        "df = pd.read_excel(file_path)\n"
      ]
    },
    {
      "cell_type": "code",
      "source": [
        "# Select the features for clustering (replace with your chosen features)\n",
        "features = [\"Patients\"]"
      ],
      "metadata": {
        "id": "svcyX36MaKgQ"
      },
      "execution_count": 2,
      "outputs": []
    },
    {
      "cell_type": "code",
      "source": [
        "from sklearn.cluster import KMeans\n",
        "\n",
        "# Perform K-means clustering with K=4 clusters\n",
        "kmeans = KMeans(n_clusters=4, random_state=42)\n",
        "kmeans.fit(df[features])\n",
        "\n",
        "# Assign cluster labels to each data point\n",
        "df[\"cluster\"] = kmeans.labels_\n",
        "\n",
        "# Save results to a new Excel file\n",
        "output_file_path = '/content/drive/My Drive/Dear/NewApproach/4/clustering.xlsx'\n",
        "df.to_excel(output_file_path, index=False)\n",
        "\n",
        "print(\"Clustering results saved to:\", output_file_path)"
      ],
      "metadata": {
        "colab": {
          "base_uri": "https://localhost:8080/"
        },
        "id": "y2sZkfjA4YjQ",
        "outputId": "6a63b38b-cb5b-46d5-80f3-b52aa31ce902"
      },
      "execution_count": 6,
      "outputs": [
        {
          "output_type": "stream",
          "name": "stderr",
          "text": [
            "/usr/local/lib/python3.10/dist-packages/sklearn/cluster/_kmeans.py:870: FutureWarning: The default value of `n_init` will change from 10 to 'auto' in 1.4. Set the value of `n_init` explicitly to suppress the warning\n",
            "  warnings.warn(\n"
          ]
        },
        {
          "output_type": "stream",
          "name": "stdout",
          "text": [
            "Clustering results saved to: /content/drive/My Drive/Dear/NewApproach/4/clustering.xlsx\n"
          ]
        }
      ]
    },
    {
      "cell_type": "code",
      "source": [
        "import pandas as pd\n",
        "\n",
        "# Read data from Excel file\n",
        "file_path = '/content/drive/My Drive/Dear/NewApproach/4/clustering.xlsx'\n",
        "df = pd.read_excel(file_path)\n",
        "\n",
        "# Get the cluster labels\n",
        "cluster_labels = df['cluster']\n",
        "\n",
        "# Separate data points based on cluster labels\n",
        "clustered_data = {}\n",
        "for i in range(len(df)):\n",
        "    cluster_id = cluster_labels.iloc[i]\n",
        "    if cluster_id not in clustered_data:\n",
        "        clustered_data[cluster_id] = []\n",
        "    clustered_data[cluster_id].append(df.iloc[i])\n",
        "\n",
        "# Save each cluster data to a separate Excel file\n",
        "for cluster_id, data in clustered_data.items():\n",
        "    df_cluster = pd.DataFrame(data)\n",
        "    df_cluster.to_excel(f'/content/drive/My Drive/Dear/NewApproach/4/cluster_{cluster_id}.xlsx', index=False)\n",
        "\n",
        "print(\"Clusters saved to separate Excel files.\")\n"
      ],
      "metadata": {
        "colab": {
          "base_uri": "https://localhost:8080/"
        },
        "id": "akDQqQGAJc2S",
        "outputId": "cf7bf087-33dc-49d1-f88d-32a0465f70b0"
      },
      "execution_count": 7,
      "outputs": [
        {
          "output_type": "stream",
          "name": "stdout",
          "text": [
            "Clusters saved to separate Excel files.\n"
          ]
        }
      ]
    },
    {
      "cell_type": "code",
      "source": [
        "import pandas as pd\n",
        "from sklearn.svm import SVR\n",
        "from sklearn.metrics import mean_squared_error\n",
        "from sklearn.metrics import mean_absolute_error\n",
        "from sklearn.model_selection import train_test_split\n",
        "\n",
        "# Assuming you have your data separated into clusters in separate CSV files\n",
        "cluster_files = [\"/content/drive/My Drive/Dear/NewApproach/4/cluster_0.xlsx\", \"/content/drive/My Drive/Dear/NewApproach/4/cluster_1.xlsx\",\"/content/drive/My Drive/Dear/NewApproach/4/cluster_2.xlsx\", \"/content/drive/My Drive/Dear/NewApproach/4/cluster_3.xlsx\"]\n",
        "\n",
        "\n",
        "\n",
        "# Loop through each cluster file\n",
        "for cluster_file in cluster_files:\n",
        "    df = pd.read_excel(cluster_file)\n",
        "\n",
        "    # Separate features (X) and target variable (y)\n",
        "    X = df.drop(\"Date\", axis = 1)\n",
        "    X = X.drop(\"Patients\", axis=1)  # Replace \"target_column\" with your actual target column name\n",
        "    y = df[\"Patients\"]\n",
        "\n",
        "    # Feature scaling (optional but recommended)\n",
        "    from sklearn.preprocessing import StandardScaler\n",
        "    scaler = StandardScaler()\n",
        "    X_scaled = scaler.fit_transform(X)\n",
        "\n",
        "    # Split data into training and testing sets (70:30 ratio)\n",
        "    X_train, X_test, y_train, y_test = train_test_split(X_scaled, y, test_size=0.30, random_state=42)\n",
        "\n",
        "    # Define and fit the SVR model\n",
        "    svr_model = SVR(kernel='sigmoid')  # You can adjust kernel and other hyperparameters here\n",
        "    svr_model.fit(X_train, y_train)\n",
        "\n",
        "    y_pred = svr_model.predict(X_test)\n",
        "\n",
        "    # Calculate Mean Squared Error (MSE)\n",
        "    mse = mean_squared_error(y_test, y_pred)\n",
        "    print(\"Mean Squared Error:\", mse)\n",
        "\n",
        "     # Calculate Mean Absolute Error (MAE)\n",
        "    mae = mean_absolute_error(y_test, y_pred)\n",
        "    print(f\"MAE for Cluster {cluster_file.split('_')[1]}: {mae:.2f}\")"
      ],
      "metadata": {
        "colab": {
          "base_uri": "https://localhost:8080/"
        },
        "id": "rgRhB0sC8q1x",
        "outputId": "5a7138fe-e800-4e6e-c5f3-edcd657017c1"
      },
      "execution_count": 8,
      "outputs": [
        {
          "output_type": "stream",
          "name": "stdout",
          "text": [
            "Mean Squared Error: 52.626463921719996\n",
            "MAE for Cluster 0.xlsx: 5.25\n",
            "Mean Squared Error: 26.584282241844672\n",
            "MAE for Cluster 1.xlsx: 3.65\n",
            "Mean Squared Error: 31.309140672420334\n",
            "MAE for Cluster 2.xlsx: 3.88\n",
            "Mean Squared Error: 17.60511464716881\n",
            "MAE for Cluster 3.xlsx: 3.20\n"
          ]
        }
      ]
    }
  ]
}