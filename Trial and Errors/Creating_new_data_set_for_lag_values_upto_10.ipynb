{
  "nbformat": 4,
  "nbformat_minor": 0,
  "metadata": {
    "colab": {
      "provenance": []
    },
    "kernelspec": {
      "name": "python3",
      "display_name": "Python 3"
    },
    "language_info": {
      "name": "python"
    }
  },
  "cells": [
    {
      "cell_type": "code",
      "execution_count": null,
      "metadata": {
        "id": "Htaly3liYz6D"
      },
      "outputs": [],
      "source": []
    },
    {
      "cell_type": "code",
      "execution_count": null,
      "metadata": {
        "colab": {
          "base_uri": "https://localhost:8080/"
        },
        "id": "y1fmzhskt55I",
        "outputId": "80410cb3-0f0f-414e-bd7f-e32b0ae83ee1"
      },
      "outputs": [
        {
          "output_type": "stream",
          "name": "stdout",
          "text": [
            "Drive already mounted at /content/drive; to attempt to forcibly remount, call drive.mount(\"/content/drive\", force_remount=True).\n"
          ]
        }
      ],
      "source": [
        "from google.colab import drive\n",
        "import pandas as pd\n",
        "\n",
        "# Mount Google Drive\n",
        "drive.mount('/content/drive')\n",
        "\n",
        "# Once mounted, you can access files in your Google Drive like this:\n",
        "file_path = '/content/drive/My Drive/Dear/Data.xlsx'\n",
        "\n",
        "# Read data from Excel file\n",
        "df = pd.read_excel(file_path)\n"
      ]
    },
    {
      "cell_type": "code",
      "source": [
        "import pandas as pd\n",
        "\n",
        "# Assuming 'df' is your DataFrame and 'arrival_time' and 'total_los' columns are present\n",
        "# Convert 'arrival_time' column to datetime format\n",
        "df['arrival_time'] = pd.to_datetime(df['arrival_time'])\n",
        "\n",
        "# Extract just the date from the 'arrival_time'\n",
        "df['arrival_date'] = df['arrival_time'].dt.date\n",
        "\n",
        "# Initialize a list to store the results\n",
        "result_data = []\n",
        "\n",
        "# Loop through each unique date in the dataset\n",
        "for date in df['arrival_date'].unique():\n",
        "    # Filter the dataframe to include patients who are still in the hospital on the given date\n",
        "    patients_today = df[(df['arrival_date'] <= date) &\n",
        "                        (pd.to_datetime(df['arrival_date']) + pd.to_timedelta(df['total_los'], unit='D') >= pd.to_datetime(date))].shape[0]\n",
        "\n",
        "    # Initialize a dictionary to store the results for the current date\n",
        "    result = {'Date': date, 'Patients': patients_today}\n",
        "\n",
        "    # Loop through lag values from 1 to 10\n",
        "    for lag in range(1, 11):\n",
        "        patients_lag = df[(pd.to_datetime(df['arrival_date']) <= pd.to_datetime(date) - pd.Timedelta(days=lag)) &\n",
        "                          (pd.to_datetime(df['arrival_date']) + pd.to_timedelta(df['total_los'], unit='D') >= pd.to_datetime(date) - pd.Timedelta(days=lag))].shape[0]\n",
        "        result[f'Patients_{lag}_Days_Before'] = patients_lag\n",
        "\n",
        "    # Append the results to the result list\n",
        "    result_data.append(result)\n",
        "\n",
        "# Create a DataFrame from the result list\n",
        "result_df = pd.DataFrame(result_data)\n",
        "\n",
        "# Save the results to an Excel file\n",
        "output_file_path = '/content/drive/My Drive/Dear/patient_counts14.xlsx'\n",
        "result_df.to_excel(output_file_path, index=False)\n",
        "\n",
        "print(\"Clustering results saved to:\", output_file_path)\n"
      ],
      "metadata": {
        "colab": {
          "base_uri": "https://localhost:8080/"
        },
        "id": "P_5Z2AUfUZti",
        "outputId": "58520c03-44f7-4e22-e612-d7dfe20b2cf4"
      },
      "execution_count": null,
      "outputs": [
        {
          "output_type": "stream",
          "name": "stdout",
          "text": [
            "Clustering results saved to: /content/drive/My Drive/Dear/patient_counts14.xlsx\n"
          ]
        }
      ]
    }
  ]
}